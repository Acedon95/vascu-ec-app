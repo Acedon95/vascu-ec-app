{
 "cells": [
  {
   "cell_type": "code",
   "execution_count": null,
   "id": "82b92444",
   "metadata": {
    "scrolled": true
   },
   "outputs": [],
   "source": [
    "import pandas as pd\n",
    "import yaml\n",
    "import numpy as np\n",
    "import scipy.ndimage\n",
    "import time, os, sys\n",
    "import skimage.io\n",
    "import matplotlib.pyplot as plt\n",
    "import matplotlib as mpl\n",
    "mpl.rcParams['figure.dpi'] = 300\n",
    "from cellpose import utils\n",
    "from matplotlib import cm\n",
    "from skimage.filters import threshold_otsu\n",
    "from skimage.measure import label, regionprops, regionprops_table\n",
    "import math\n",
    "from scipy.ndimage import gaussian_filter\n",
    "import sys\n",
    "from cellpose import models, io, plot\n",
    "import os\n",
    "import glob"
   ]
  },
  {
   "cell_type": "code",
   "execution_count": null,
   "id": "9a592827",
   "metadata": {},
   "outputs": [],
   "source": [
    "sys.path.append(\"../feature_extraction/\")\n",
    "import functions"
   ]
  },
  {
   "cell_type": "code",
   "execution_count": null,
   "id": "86e8f95f",
   "metadata": {},
   "outputs": [],
   "source": [
    "parameter_file = \"../feature_extraction/local/parameters_olya_test.yml\"\n",
    "parameters = functions.read_parameters(parameter_file)"
   ]
  },
  {
   "cell_type": "code",
   "execution_count": null,
   "id": "76b586c1",
   "metadata": {},
   "outputs": [],
   "source": [
    "input_path = parameters[\"input_path\"]\n",
    "\n",
    "# All files ending with .txt\n",
    "file_list = glob.glob(input_path + \"*.tif\")\n",
    "#print(glob.glob(input_path + \"*.tif\")) \n",
    "for filename in file_list:\n",
    "    #print(filename)\n",
    "    print(filename.split(\"/\")[-1].split(\".\")[0])"
   ]
  },
  {
   "cell_type": "code",
   "execution_count": null,
   "id": "29ed62e0",
   "metadata": {},
   "outputs": [],
   "source": [
    "merged_properties_df = pd.DataFrame()\n",
    "\n",
    "for ind, filepath in enumerate(file_list):\n",
    "    \n",
    "    filename = filepath.split(\"/\")[-1]\n",
    "    \n",
    "    img = functions.read_image(parameters,filepath)\n",
    "    img_seg = functions.get_image_for_segmentation(parameters,img)\n",
    "    \n",
    "    cellpose_mask = functions.get_cellpose_segmentation(parameters, img_seg)\n",
    "    #nuclei_mask = functions.get_nuclei_mask(parameters, img, cellpose_mask)\n",
    "    #golgi_mask = functions.get_golgi_mask(parameters, img, cellpose_mask)\n",
    "    properties_df = functions.get_features_from_cellpose_seg(parameters, img, cellpose_mask, filename)\n",
    "    \n",
    "    \n",
    "    \n",
    "    print(properties_df.head())\n",
    "    #properties_df.to_csv(\"image_%s.csv\" % ind)\n",
    "    properties_df.to_csv(filename.split(\".\")[0] + \".csv\")\n",
    "    \n",
    "    if len(merged_properties_df.index) < 10:\n",
    "        merged_properties_df = properties_df.copy()\n",
    "    else:\n",
    "        merged_properties_df.append(properties_df, ignore_index=True)\n",
    "        \n",
    "merged_properties_df.to_csv(\"merged.csv\")"
   ]
  },
  {
   "cell_type": "code",
   "execution_count": null,
   "id": "41f4c8fc",
   "metadata": {},
   "outputs": [],
   "source": [
    "filename = parameters['image_path']\n",
    "img = skimage.io.imread(filename)\n",
    "output_path = parameters['output_path']\n",
    "output_filename = parameters[\"output_filename\"]\n",
    "output_filepath = output_path + output_filename\n",
    "\n",
    "# extract channels\n",
    "\n",
    "im_junction = img[:,:,parameters[\"channel_junction\"]]\n",
    "im_nucleus = img[:,:,parameters[\"channel_nucleus\"]]\n",
    "im_golgi = img[:,:,parameters[\"channel_golgi\"]]\n",
    "if parameters[\"channel_expression_marker\"] >= 0:\n",
    "    im_marker = img[:,:,parameters[\"channel_expression_marker\"]]"
   ]
  },
  {
   "cell_type": "code",
   "execution_count": null,
   "id": "dc79b0d2",
   "metadata": {},
   "outputs": [],
   "source": [
    "fig, ax = plt.subplots()\n",
    "ax.imshow(im_junction, cmap=plt.cm.gray)"
   ]
  },
  {
   "cell_type": "code",
   "execution_count": null,
   "id": "e70f8d33",
   "metadata": {},
   "outputs": [],
   "source": [
    "fig, ax = plt.subplots()\n",
    "ax.imshow(im_nucleus, cmap=plt.cm.gray)"
   ]
  },
  {
   "cell_type": "code",
   "execution_count": null,
   "id": "7f112bbc",
   "metadata": {},
   "outputs": [],
   "source": [
    "im_seg = np.array([im_junction, im_nucleus])\n",
    "\n",
    "\n",
    "model = models.Cellpose(gpu=True, model_type='cyto')\n",
    "\n",
    "channels = [1,2]\n",
    "\n",
    "masks, flows, styles, diams = model.eval(im_seg, diameter=parameters[\"estimated_cell_diameter\"], channels=channels)\n",
    "\n",
    "io.masks_flows_to_seg(im_seg , masks, flows, diams, output_filename, channels)\n"
   ]
  },
  {
   "cell_type": "code",
   "execution_count": null,
   "id": "87ea405e",
   "metadata": {},
   "outputs": [],
   "source": [
    "print(diams)\n",
    "flows[2].shape"
   ]
  },
  {
   "cell_type": "code",
   "execution_count": null,
   "id": "db140d05",
   "metadata": {},
   "outputs": [],
   "source": [
    "fig, ax = plt.subplots(1,3)\n",
    "ax[0].imshow(im_junction, cmap=plt.cm.gray)\n",
    "ax[2].imshow(flows[2], cmap=plt.cm.gray)\n",
    "ax[1].imshow(im_nucleus, cmap=plt.cm.gray)\n",
    "#ax[1].imshow(flows[2], cmap=plt.cm.gray)"
   ]
  },
  {
   "cell_type": "code",
   "execution_count": null,
   "id": "faa06096",
   "metadata": {},
   "outputs": [],
   "source": [
    "# DISPLAY RESULTS\n",
    "from cellpose import plot\n",
    "\n",
    "fig = plt.figure(figsize=(12,5))\n",
    "plot.show_segmentation(fig, im_seg, masks, flows[0], channels=channels)\n",
    "plt.tight_layout()\n",
    "plt.show()"
   ]
  },
  {
   "cell_type": "code",
   "execution_count": null,
   "id": "2848940c",
   "metadata": {},
   "outputs": [],
   "source": [
    "fig, ax = plt.subplots()\n",
    "ax.imshow(masks)"
   ]
  }
 ],
 "metadata": {
  "kernelspec": {
   "display_name": "Python 3",
   "language": "python",
   "name": "python3"
  },
  "language_info": {
   "codemirror_mode": {
    "name": "ipython",
    "version": 3
   },
   "file_extension": ".py",
   "mimetype": "text/x-python",
   "name": "python",
   "nbconvert_exporter": "python",
   "pygments_lexer": "ipython3",
   "version": "3.7.10"
  }
 },
 "nbformat": 4,
 "nbformat_minor": 5
}
